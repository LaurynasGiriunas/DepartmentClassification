{
 "cells": [
  {
   "cell_type": "code",
   "execution_count": 81,
   "metadata": {},
   "outputs": [],
   "source": [
    "import pandas as pd"
   ]
  },
  {
   "cell_type": "code",
   "execution_count": 82,
   "metadata": {},
   "outputs": [],
   "source": [
    "#loading datasets\n",
    "train_set = pd.read_csv('train_set.csv')\n",
    "test_set = pd.read_csv('test_set.csv')"
   ]
  },
  {
   "cell_type": "code",
   "execution_count": 83,
   "metadata": {},
   "outputs": [],
   "source": [
    "predefined_departments = pd.read_csv('department_groups.csv')"
   ]
  },
  {
   "cell_type": "markdown",
   "metadata": {},
   "source": [
    "TODO: finish implementing required functionality, that given a list of department fields, *make_submission* function would return mapped department group for each department in the list. We will use this function to get your predictions for our private test set."
   ]
  },
  {
   "cell_type": "code",
   "execution_count": 84,
   "metadata": {},
   "outputs": [
    {
     "name": "stdout",
     "output_type": "stream",
     "text": [
      "                 Department Department Group\n",
      "0               support muc       it support\n",
      "1             new york city         regional\n",
      "2          support services       it support\n",
      "3  10612 - support services       it support\n",
      "4       syseng uk intc usdc         regional\n",
      "                    Department Department Group\n",
      "0    manufacturing engineering              r&d\n",
      "1     post market surveillance          finance\n",
      "2  accounts payable/receivable          finance\n",
      "3          information systems              r&d\n",
      "4         is service & support       it support\n",
      "Department          False\n",
      "Department Group    False\n",
      "dtype: bool\n",
      "Department          False\n",
      "Department Group    False\n",
      "dtype: bool\n"
     ]
    }
   ],
   "source": [
    "#checking structure of data and if there are any missing values in given datasets\n",
    "print(train_set.head())\n",
    "print(test_set.head())\n",
    "print(train_set.isnull().any())\n",
    "print(test_set.isnull().any())"
   ]
  },
  {
   "cell_type": "code",
   "execution_count": 85,
   "metadata": {},
   "outputs": [],
   "source": [
    "#There are no missing values. Expect this in the private test set as well"
   ]
  },
  {
   "cell_type": "code",
   "execution_count": 86,
   "metadata": {},
   "outputs": [
    {
     "name": "stdout",
     "output_type": "stream",
     "text": [
      "Index(['Department', 'Department Group'], dtype='object')\n",
      "['it support' 'regional' 'operations' 'audit' 'human resource' 'r&d'\n",
      " 'finance' 'consulting' 'marketing' 'sales' 'legal' 'it security'\n",
      " 'business' 'executive']\n",
      "   Department Groups\n",
      "0         operations\n",
      "1           regional\n",
      "2         it support\n",
      "3                r&d\n",
      "4            finance\n",
      "5     human resource\n",
      "6              audit\n",
      "7           business\n",
      "8              legal\n",
      "9         consulting\n",
      "10         executive\n",
      "11       it security\n",
      "12         marketing\n",
      "13             sales\n"
     ]
    }
   ],
   "source": [
    "#checking if there are examples of every department group\n",
    "print(train_set.columns)\n",
    "print(train_set[\"Department Group\"].unique())\n",
    "print(predefined_departments)"
   ]
  },
  {
   "cell_type": "code",
   "execution_count": 87,
   "metadata": {},
   "outputs": [],
   "source": [
    "#there are examples of every department group in the training set"
   ]
  },
  {
   "cell_type": "code",
   "execution_count": 88,
   "metadata": {},
   "outputs": [],
   "source": [
    "#Converting categories of the training set into integer numbers\n",
    "train_set[\"group_id\"]=train_set[\"Department Group\"].factorize()[0]\n",
    "\n",
    "#Creating dictionaries to easily convert between the names of the categories and integer numbers assigned to them\n",
    "group_id_train = train_set[['Department Group', 'group_id']].drop_duplicates().sort_values('group_id')\n",
    "group_to_id = dict(group_id_train.values)\n",
    "id_to_group = dict(group_id_train[['group_id', 'Department Group']].values)"
   ]
  },
  {
   "cell_type": "code",
   "execution_count": 89,
   "metadata": {},
   "outputs": [
    {
     "data": {
      "image/png": "[encoded data removed]",
      "text/plain": [
       "<Figure size 576x432 with 1 Axes>"
      ]
     },
     "metadata": {
      "needs_background": "light"
     },
     "output_type": "display_data"
    }
   ],
   "source": [
    "#checking what training data is made of\n",
    "import matplotlib.pyplot as plt\n",
    "fig = plt.figure(figsize=(8,6))\n",
    "train_set.groupby('Department Group').Department.count().plot.bar(ylim=0)\n",
    "plt.show()"
   ]
  },
  {
   "cell_type": "code",
   "execution_count": 90,
   "metadata": {},
   "outputs": [],
   "source": [
    "#A very uneven number of training data. This will make predictions biased. Correct methods should be used to solve this. \n",
    "#Oversampling(undersampling) is one option"
   ]
  },
  {
   "cell_type": "code",
   "execution_count": 91,
   "metadata": {},
   "outputs": [],
   "source": [
    "#Algorithms do not directly understand words and so they have to be converted numerical vectors. \n",
    "#One of the methods is using TF-IDF vector technique, which gives an importance of the words, which appear in the text.\n",
    "#Importance depends on how often words are used, but does not depend on the order of words\n",
    "from sklearn.feature_extraction.text import TfidfVectorizer\n",
    "\n",
    "#ngram_range=(1,2) shows that it is chosen to count importance not only on single words, but on every two near by words\n",
    "#lowercase = True, is used that one capital letter in the word would not make it as a different word\n",
    "#stop_words='english', removes common words like 'the' or 'a', which would be just a noise in this task\n",
    "#TdidfVectorizer will clean the data quite a bit, but with more time I would make sure manually that data is clean\n",
    "tfidf = TfidfVectorizer(sublinear_tf=True, norm='l2', encoding='latin-1', ngram_range=(1, 2), lowercase = True, stop_words='english')\n",
    "features = tfidf.fit_transform(train_set.Department).toarray()\n",
    "\n",
    "#saving 'group_id' for easier reference\n",
    "labels = train_set.group_id"
   ]
  },
  {
   "cell_type": "code",
   "execution_count": 92,
   "metadata": {},
   "outputs": [
    {
     "name": "stdout",
     "output_type": "stream",
     "text": [
      "\n",
      "# 'audit':\n",
      "  . Most correlated unigrams:. nevada. audit\n",
      "  . Most correlated bigrams:. assurance cluster. audit assurance\n",
      "# 'business':\n",
      "  . Most correlated unigrams:. govt. retail\n",
      "  . Most correlated bigrams:. national govt. customer development\n",
      "# 'consulting':\n",
      "  . Most correlated unigrams:. technology. consulting\n",
      "  . Most correlated bigrams:. consulting power. consulting technology\n",
      "# 'executive':\n",
      "  . Most correlated unigrams:. head. ceo\n",
      "  . Most correlated bigrams:. ceo office. head business\n",
      "# 'finance':\n",
      "  . Most correlated unigrams:. valuations. finance\n",
      "  . Most correlated bigrams:. finance acounting. finance accounting\n",
      "# 'human resource':\n",
      "  . Most correlated unigrams:. human. hr\n",
      "  . Most correlated bigrams:. hr mgmt. human resources\n",
      "# 'it security':\n",
      "  . Most correlated unigrams:. fraud. security\n",
      "  . Most correlated bigrams:. ist data. fraud detection\n",
      "# 'it support':\n",
      "  . Most correlated unigrams:. training. support\n",
      "  . Most correlated bigrams:. team support. support services\n",
      "# 'legal':\n",
      "  . Most correlated unigrams:. regulatory. legal\n",
      "  . Most correlated bigrams:. legal patents. tax legal\n",
      "# 'marketing':\n",
      "  . Most correlated unigrams:. project. marketing\n",
      "  . Most correlated bigrams:. project marketing. marketing services\n",
      "# 'operations':\n",
      "  . Most correlated unigrams:. logistics. quality\n",
      "  . Most correlated bigrams:. supply chain. quality assurance\n",
      "# 'r&d':\n",
      "  . Most correlated unigrams:. medsurg. research\n",
      "  . Most correlated bigrams:. business intelligence. research development\n",
      "# 'regional':\n",
      "  . Most correlated unigrams:. kong. hong\n",
      "  . Most correlated bigrams:. new york. hong kong\n",
      "# 'sales':\n",
      "  . Most correlated unigrams:. contracts. sales\n",
      "  . Most correlated bigrams:. contracts pricing. business contracts\n"
     ]
    }
   ],
   "source": [
    "#using feature_selection.chi2 to see what words are the most common for which department group\n",
    "\n",
    "from sklearn.feature_selection import chi2\n",
    "import numpy as np\n",
    "N = 2\n",
    "print()\n",
    "for Department_group, group_id in sorted(group_to_id.items()):\n",
    "  features_chi2 = chi2(features, labels == group_id)\n",
    "  indices = np.argsort(features_chi2[0])\n",
    "  feature_names = np.array(tfidf.get_feature_names())[indices]\n",
    "  unigrams = [v for v in feature_names if len(v.split(' ')) == 1]\n",
    "  bigrams = [v for v in feature_names if len(v.split(' ')) == 2]\n",
    "  print(\"# '{}':\".format(Department_group))\n",
    "  print(\"  . Most correlated unigrams:. {}\".format('. '.join(unigrams[-N:])))\n",
    "  print(\"  . Most correlated bigrams:. {}\".format('. '.join(bigrams[-N:])))"
   ]
  },
  {
   "cell_type": "code",
   "execution_count": 93,
   "metadata": {
    "scrolled": true
   },
   "outputs": [
    {
     "name": "stderr",
     "output_type": "stream",
     "text": [
      "/opt/conda/lib/python3.7/site-packages/sklearn/linear_model/logistic.py:433: FutureWarning: Default solver will be changed to 'lbfgs' in 0.22. Specify a solver to silence this warning.\n",
      "  FutureWarning)\n",
      "/opt/conda/lib/python3.7/site-packages/sklearn/linear_model/logistic.py:460: FutureWarning: Default multi_class will be changed to 'auto' in 0.22. Specify the multi_class option to silence this warning.\n",
      "  \"this warning.\", FutureWarning)\n",
      "/opt/conda/lib/python3.7/site-packages/sklearn/linear_model/logistic.py:433: FutureWarning: Default solver will be changed to 'lbfgs' in 0.22. Specify a solver to silence this warning.\n",
      "  FutureWarning)\n",
      "/opt/conda/lib/python3.7/site-packages/sklearn/linear_model/logistic.py:460: FutureWarning: Default multi_class will be changed to 'auto' in 0.22. Specify the multi_class option to silence this warning.\n",
      "  \"this warning.\", FutureWarning)\n",
      "/opt/conda/lib/python3.7/site-packages/sklearn/linear_model/logistic.py:433: FutureWarning: Default solver will be changed to 'lbfgs' in 0.22. Specify a solver to silence this warning.\n",
      "  FutureWarning)\n",
      "/opt/conda/lib/python3.7/site-packages/sklearn/linear_model/logistic.py:460: FutureWarning: Default multi_class will be changed to 'auto' in 0.22. Specify the multi_class option to silence this warning.\n",
      "  \"this warning.\", FutureWarning)\n",
      "/opt/conda/lib/python3.7/site-packages/sklearn/linear_model/logistic.py:433: FutureWarning: Default solver will be changed to 'lbfgs' in 0.22. Specify a solver to silence this warning.\n",
      "  FutureWarning)\n",
      "/opt/conda/lib/python3.7/site-packages/sklearn/linear_model/logistic.py:460: FutureWarning: Default multi_class will be changed to 'auto' in 0.22. Specify the multi_class option to silence this warning.\n",
      "  \"this warning.\", FutureWarning)\n",
      "/opt/conda/lib/python3.7/site-packages/sklearn/linear_model/logistic.py:433: FutureWarning: Default solver will be changed to 'lbfgs' in 0.22. Specify a solver to silence this warning.\n",
      "  FutureWarning)\n",
      "/opt/conda/lib/python3.7/site-packages/sklearn/linear_model/logistic.py:460: FutureWarning: Default multi_class will be changed to 'auto' in 0.22. Specify the multi_class option to silence this warning.\n",
      "  \"this warning.\", FutureWarning)\n"
     ]
    },
    {
     "data": {
      "image/png": "[encoded data removed]",
      "text/plain": [
       "<Figure size 432x288 with 1 Axes>"
      ]
     },
     "metadata": {
      "needs_background": "light"
     },
     "output_type": "display_data"
    }
   ],
   "source": [
    "#Now different models will be used to correctly predict the what words represent which department group \n",
    "\n",
    "#One of the best algorithms to start with for word classification is Naive Bayes Classifier. \n",
    "#It is a probabilistic algorithm, which makes an assumption that the occurrence of a certain feature is independent of the occurrence of other features\n",
    "#It multiplies probabilities of words for every category and chooses an answer with the biggest probability\n",
    "\n",
    "\n",
    "from sklearn.linear_model import LogisticRegression\n",
    "from sklearn.ensemble import RandomForestClassifier\n",
    "from sklearn.svm import LinearSVC\n",
    "from sklearn.naive_bayes import MultinomialNB\n",
    "from sklearn.model_selection import cross_val_score\n",
    "\n",
    "models = [\n",
    "    RandomForestClassifier(n_estimators=100, max_depth=3, random_state=0),\n",
    "    LinearSVC(),\n",
    "    MultinomialNB(),\n",
    "    LogisticRegression(random_state=0),\n",
    "]\n",
    "#CV=5 is a technique called cross-validation. It divides data set into 5 parts. 5 models are made and averaged with validation data being a different 20% percent each time of the  whole train set \n",
    "CV = 5\n",
    "cv_data = pd.DataFrame(index=range(CV * len(models)))\n",
    "entries = []\n",
    "for model in models:\n",
    "    model_name = model.__class__.__name__\n",
    "    accuracies = cross_val_score(model, features, labels, scoring='accuracy', cv=CV)\n",
    "    for fold_idx, accuracy in enumerate(accuracies):\n",
    "        entries.append((model_name, fold_idx, accuracy))\n",
    "cv_data = pd.DataFrame(entries, columns=['model_name', 'fold_idx', 'accuracy'])\n",
    "\n",
    "#plotting results of the models and choosing the best one\n",
    "import seaborn as sns\n",
    "sns.boxplot(x='model_name', y='accuracy', data=cv_data)\n",
    "sns.stripplot(x='model_name', y='accuracy', data=cv_data, \n",
    "              size=8, jitter=True, edgecolor=\"gray\", linewidth=2)\n",
    "plt.show()"
   ]
  },
  {
   "cell_type": "code",
   "execution_count": 94,
   "metadata": {},
   "outputs": [
    {
     "data": {
      "text/plain": [
       "model_name\n",
       "LinearSVC                 0.698568\n",
       "LogisticRegression        0.504209\n",
       "MultinomialNB             0.428951\n",
       "RandomForestClassifier    0.317960\n",
       "Name: accuracy, dtype: float64"
      ]
     },
     "execution_count": 94,
     "metadata": {},
     "output_type": "execute_result"
    }
   ],
   "source": [
    "#Getting precise values of the moels\n",
    "cv_data.groupby('model_name').accuracy.mean()"
   ]
  },
  {
   "cell_type": "code",
   "execution_count": 95,
   "metadata": {
    "scrolled": false
   },
   "outputs": [
    {
     "name": "stdout",
     "output_type": "stream",
     "text": [
      "Accuracy of the model on test data:  0.696969696969697\n"
     ]
    }
   ],
   "source": [
    "#As it can be seen from the accuracy data, \n",
    "#LinearSVC model is the most precise and it will be used further on to get better results after training with all training data without cross-validation\n",
    "model = LinearSVC()\n",
    "model.fit(features, labels)\n",
    "\n",
    "#test set will be used to see how accurate the model became and so it has to be prepared for it\n",
    "test_set[\"group_id\"] = [group_to_id[department] for department in test_set['Department Group']]\n",
    "test_labels = test_set.group_id\n",
    "test_features = tfidf.transform(test_set[\"Department\"]).toarray()\n",
    "\n",
    "# Use the model to predict department groups\n",
    "y_pred = model.predict(test_features)\n",
    "\n",
    "#finding the accuracy of the model\n",
    "from sklearn.metrics import accuracy_score\n",
    "print(\"Accuracy of the model on test data: \",accuracy_score(test_labels,y_pred))"
   ]
  },
  {
   "cell_type": "code",
   "execution_count": 96,
   "metadata": {},
   "outputs": [
    {
     "data": {
      "image/png": "[encoded data removed]",
      "text/plain": [
       "<Figure size 720x720 with 2 Axes>"
      ]
     },
     "metadata": {
      "needs_background": "light"
     },
     "output_type": "display_data"
    }
   ],
   "source": [
    "#It looks that data regularised very well and did not overfit, as acurracy on the test set is very close to the accuracy on the training set\n",
    "#To see what are the mistakes of the model, the confusion matrix is built\n",
    "from sklearn.metrics import confusion_matrix\n",
    "conf_mat = confusion_matrix(test_labels, y_pred)\n",
    "fig, ax = plt.subplots(figsize=(10,10))\n",
    "sns.heatmap(conf_mat, annot=True, fmt='d',\n",
    "            xticklabels=group_id_train[\"Department Group\"].values, yticklabels=group_id_train[\"Department Group\"].values)\n",
    "plt.ylabel('Actual')\n",
    "plt.xlabel('Predicted')\n",
    "plt.show()"
   ]
  },
  {
   "cell_type": "code",
   "execution_count": 80,
   "metadata": {},
   "outputs": [
    {
     "name": "stdout",
     "output_type": "stream",
     "text": [
      "Data containing 'r&d' in the training set:\n",
      "\t r&d - medsurg     r&d\n",
      "\t endo r&d     r&d\n",
      "\t research and development     r&d\n",
      "\t research & development     r&d\n",
      "\t manufacturing     r&d\n",
      "\t   data science and business intelligence     r&d\n",
      "\t beaconsfield res dev     r&d\n",
      "\t r&d video     r&d\n",
      "\t research & technology developement     r&d\n",
      "\t r&d- imt     r&d\n",
      "\t business intelligence     r&d\n",
      "\t it projects     r&d\n",
      "\t r&d communication     r&d\n",
      "\t research     r&d\n",
      "\t global data center services     r&d\n",
      "\n",
      "Data containing 'r&d' in the test set:\n",
      "\t manufacturing engineering     r&d\n",
      "\t information systems     r&d\n",
      "\t r&d i&s     r&d\n",
      "\t inf data center services     r&d\n",
      "\t r&d cmf     r&d\n",
      "\t inf data center services     r&d\n",
      "\t r&d integration     r&d\n",
      "\t r&d trit     r&d\n",
      "\t product development     r&d\n",
      "\n",
      "Data containing 'finance' in the training set:\n",
      "\t investment casting\n",
      "\t finance ;\n",
      "\t finance & acounting\n",
      "\t finance and accounting\n",
      "\t shareholder accounting\n",
      "\t valuations\n",
      "\t risk mgmt\n",
      "\t financial\n",
      "\t risk management (8645231)\n",
      "\t finance ; taxation\n",
      "\t valuations \n",
      "\n",
      "Data containing 'finance' in the test set:\n",
      "\t post market surveillance\n",
      "\t accounts payable/receivable\n",
      "\t skilled trade - electrical\n",
      "\t accounts payable 061513\n",
      "\t financial reports\n"
     ]
    }
   ],
   "source": [
    "#It can be seen that as predicted model is biased and predicts 'operations' most often.\n",
    "#It is also visible that most of the mistakes comes from 'R&D' and 'finance' predictions and it should be checked how data looks in train_set and test_set\n",
    "\n",
    "print(\"Data containing 'r&d' in the training set:\")\n",
    "for i in range(len(train_set)):\n",
    "    if ((train_set['Department'][i].find(\"r&d\") != -1) or (train_set['Department Group'][i].find(\"r&d\") != -1)): print(\"\\t\",train_set['Department'][i],\"   \",train_set['Department Group'][i])\n",
    "        \n",
    "print(\"\\nData containing 'r&d' in the test set:\")\n",
    "for i in range(len(test_set)):\n",
    "    if ((test_set['Department'][i].find(\"r&d\") != -1) or (test_set['Department Group'][i].find(\"r&d\") != -1)): print(\"\\t\",test_set['Department'][i],\"   \",test_set['Department Group'][i])\n",
    "        \n",
    "print(\"\\nData containing 'finance' in the training set:\")\n",
    "for i in range(len(train_set)):\n",
    "    if train_set['Department Group'][i].find(\"finance\") != -1: print(\"\\t\",train_set['Department'][i])\n",
    "        \n",
    "print(\"\\nData containing 'finance' in the test set:\")\n",
    "for i in range(len(test_set)):\n",
    "    if test_set['Department Group'][i].find(\"finance\") != -1: print(\"\\t\",test_set['Department'][i])\n"
   ]
  },
  {
   "cell_type": "code",
   "execution_count": 97,
   "metadata": {},
   "outputs": [
    {
     "name": "stdout",
     "output_type": "stream",
     "text": [
      "Final accuracy of the model         0.76\n"
     ]
    }
   ],
   "source": [
    "#Data shows that finance was not predicted correctly because of different keywords in train and test datasets. It could be fixed only by a bigger training dataset\n",
    "#On the other hand, it can be seen that training set has 'r&d' as a word to be trained for it, but most probably does not detect it test set as '&' is not a letter and is lost during TfidfVectorization. This error consists around 50% of r&d cases and should be hard coded into search\n",
    "\n",
    "y_pred_strings = [id_to_group[department_group] for department_group in y_pred]\n",
    "for i in range(len(y_pred_strings)):\n",
    "    if test_set['Department'][i].find(\"r&d\") != -1: y_pred_strings[i]=\"r&d\" \n",
    "    \n",
    "print(\"Final accuracy of the model % 12.2f\" % accuracy_score(test_set['Department Group'],y_pred_strings))"
   ]
  },
  {
   "cell_type": "code",
   "execution_count": 98,
   "metadata": {},
   "outputs": [],
   "source": [
    "#making functions to easily use any file to get predictions of the Department Groups\n",
    "def make_submission(departments):\n",
    "    #TODO implement specified functionality\n",
    "    features_for_test = tfidf.transform(departments).toarray()\n",
    "    predictions = model.predict(features_for_test)\n",
    "    predictions = [id_to_group[department_group] for department_group in predictions]\n",
    "    \n",
    "    #Hard coding missing \"r&d\"\n",
    "    for i in range(len(predictions)):\n",
    "        if departments[i].find(\"r&d\") != -1: predictions[i]=\"r&d\" \n",
    "    return predictions\n",
    "\n",
    "predictions = make_submission(test_set['Department'])\n",
    "pd.DataFrame({'Department': test_set['Department'], 'Department Group Prediction': predictions}).to_csv('predictions.csv', \n",
    "                                                                                                        index=False)"
   ]
  },
  {
   "cell_type": "code",
   "execution_count": 99,
   "metadata": {},
   "outputs": [],
   "source": [
    "#Future improvement ideas\n",
    "#Things to do with more time:\n",
    "#1) Check if data was correctly cleaned from:\n",
    "#    a)possesive pronouns\n",
    "#    b)punctuation signs\n",
    "#    c)special characters\n",
    "#2) Spend more time trying to get better parameters for models\n",
    "#3) Do oversampling (undersampling) of the data\n",
    "#4) Try state of the art models for text classification\n",
    "#5) Make sure that data is cleaned properly by TdidfVectorizer\n",
    "#6) Check more wrong predictions to see if it is possible to fix it. like the one with 'r&d'"
   ]
  },
  {
   "cell_type": "code",
   "execution_count": null,
   "metadata": {},
   "outputs": [],
   "source": []
  }
 ],
 "metadata": {
  "kernelspec": {
   "display_name": "Python 3",
   "language": "python",
   "name": "python3"
  },
  "language_info": {
   "codemirror_mode": {
    "name": "ipython",
    "version": 3
   },
   "file_extension": ".py",
   "mimetype": "text/x-python",
   "name": "python",
   "nbconvert_exporter": "python",
   "pygments_lexer": "ipython3",
   "version": "3.7.3"
  }
 },
 "nbformat": 4,
 "nbformat_minor": 2
}
